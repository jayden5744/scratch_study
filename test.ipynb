{
 "cells": [
  {
   "cell_type": "code",
   "execution_count": 5,
   "metadata": {},
   "outputs": [
    {
     "name": "stdout",
     "output_type": "stream",
     "text": [
      "torch.Size([3, 20])\n",
      "torch.Size([2, 20])\n",
      "torch.Size([5, 3, 20])\n",
      "torch.Size([2, 3, 20])\n"
     ]
    }
   ],
   "source": [
    "import torch \n",
    "import torch.nn as nn\n",
    "input = torch.randn(3, 10)\n",
    "input2 = torch.randn(5, 3, 10)\n",
    "rnn_origin = nn.RNN(10, 20, 2, batch_first=True)\n",
    "output, hn = rnn_origin(input)\n",
    "\n",
    "print(output.size()) # [batch_size, seq_length, h_out]\n",
    "print(hn.size())   # [num_layers, batch_size, h_out]\n",
    "\n",
    "\n",
    "rnn_origin = nn.RNN(10, 20, 2)\n",
    "output, hn = rnn_origin(input2)\n",
    "# rnn_origin = nn.RNN(20, 20, 1, batch_first=True)\n",
    "# output, hn = rnn_origin(output)\n",
    "print(output.size()) # [batch_size, seq_length, h_out]\n",
    "print(hn.size())   # [num_layers, batch_size, h_out]\n",
    "\n"
   ]
  },
  {
   "cell_type": "code",
   "execution_count": 12,
   "metadata": {},
   "outputs": [
    {
     "name": "stdout",
     "output_type": "stream",
     "text": [
      "torch.Size([5, 2])\n",
      "tensor([[2.0000, 2.1000],\n",
      "        [2.2000, 2.3000],\n",
      "        [2.4000, 2.5000],\n",
      "        [2.6000, 2.7000],\n",
      "        [2.8000, 2.9000]])\n",
      "tensor([2.0000, 2.1000])\n",
      "tensor([2.2000, 2.3000])\n",
      "tensor([2.4000, 2.5000])\n",
      "tensor([2.6000, 2.7000])\n",
      "tensor([2.8000, 2.9000])\n"
     ]
    }
   ],
   "source": [
    "x = torch.arange(2, 3, 0.1)\n",
    "x = x.view(-1, 2)\n",
    "print(x.size())\n",
    "print(x)\n",
    "\n",
    "for idx in range(x.size(0)):\n",
    "    print(x[idx, :])"
   ]
  },
  {
   "cell_type": "code",
   "execution_count": 3,
   "metadata": {},
   "outputs": [],
   "source": [
    "from nlp.models.rnn import RNN\n",
    "\n",
    "input = torch.randn(5, 3, 10)\n",
    "\n",
    "rnn_custom = RNN(input_size=10, hidden_size=20, num_layers=1)\n",
    "rnn_custom(input)\n"
   ]
  },
  {
   "cell_type": "code",
   "execution_count": null,
   "metadata": {},
   "outputs": [],
   "source": []
  },
  {
   "cell_type": "code",
   "execution_count": 2,
   "metadata": {},
   "outputs": [
    {
     "ename": "NameError",
     "evalue": "name 'RNN' is not defined",
     "output_type": "error",
     "traceback": [
      "\u001b[0;31m---------------------------------------------------------------------------\u001b[0m",
      "\u001b[0;31mNameError\u001b[0m                                 Traceback (most recent call last)",
      "Cell \u001b[0;32mIn[2], line 3\u001b[0m\n\u001b[1;32m      1\u001b[0m \u001b[38;5;28minput\u001b[39m \u001b[38;5;241m=\u001b[39m torch\u001b[38;5;241m.\u001b[39mrandn(\u001b[38;5;241m5\u001b[39m, \u001b[38;5;241m3\u001b[39m, \u001b[38;5;241m10\u001b[39m)\n\u001b[0;32m----> 3\u001b[0m rnn_custom \u001b[38;5;241m=\u001b[39m \u001b[43mRNN\u001b[49m(input_size\u001b[38;5;241m=\u001b[39m\u001b[38;5;241m10\u001b[39m, hidden_size\u001b[38;5;241m=\u001b[39m\u001b[38;5;241m20\u001b[39m, num_layers\u001b[38;5;241m=\u001b[39m\u001b[38;5;241m1\u001b[39m)\n\u001b[1;32m      4\u001b[0m rnn_custom(\u001b[38;5;28minput\u001b[39m)\n",
      "\u001b[0;31mNameError\u001b[0m: name 'RNN' is not defined"
     ]
    }
   ],
   "source": []
  },
  {
   "cell_type": "code",
   "execution_count": 4,
   "metadata": {},
   "outputs": [
    {
     "data": {
      "text/plain": [
       "__main__.RNN2"
      ]
     },
     "execution_count": 4,
     "metadata": {},
     "output_type": "execute_result"
    }
   ],
   "source": []
  },
  {
   "cell_type": "code",
   "execution_count": null,
   "metadata": {},
   "outputs": [],
   "source": []
  }
 ],
 "metadata": {
  "kernelspec": {
   "display_name": "Python 3.8.15 ('study')",
   "language": "python",
   "name": "python3"
  },
  "language_info": {
   "codemirror_mode": {
    "name": "ipython",
    "version": 3
   },
   "file_extension": ".py",
   "mimetype": "text/x-python",
   "name": "python",
   "nbconvert_exporter": "python",
   "pygments_lexer": "ipython3",
   "version": "3.8.15"
  },
  "orig_nbformat": 4,
  "vscode": {
   "interpreter": {
    "hash": "5505d05ceda49dc504182582297c3c948daaaa09c5b6c6e672bebc3df7629cc5"
   }
  }
 },
 "nbformat": 4,
 "nbformat_minor": 2
}
