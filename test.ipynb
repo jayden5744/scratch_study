{
 "cells": [
  {
   "cell_type": "code",
   "execution_count": 5,
   "metadata": {},
   "outputs": [
    {
     "name": "stdout",
     "output_type": "stream",
     "text": [
      "torch.Size([5, 3, 40])\n",
      "torch.Size([4, 3, 20])\n"
     ]
    }
   ],
   "source": [
    "import torch \n",
    "import torch.nn as nn\n",
    "input = torch.randn(5, 3, 10)\n",
    "\n",
    "rnn_origin = nn.RNN(10, 20, 2, batch_first=False, bidirectional=True)\n",
    "output, hn = rnn_origin(input)\n",
    "\n",
    "print(output.size()) # [L, N, H_out]\n",
    "print(hn.size())   # [num_layers, N, H_out]\n",
    "\n",
    "# input2 = torch.randn(5, 3, 10)\n",
    "# rnn_origin = nn.RNN(10, 20, 2)\n",
    "# output, hn = rnn_origin(input2)\n",
    "# # rnn_origin = nn.RNN(20, 20, 1, batch_first=True)\n",
    "# # output, hn = rnn_origin(output)\n",
    "# print(output.size()) # [batch_size, seq_length, h_out]\n",
    "# print(hn.size())   # [num_layers, batch_size, h_out]\n",
    "\n"
   ]
  },
  {
   "cell_type": "code",
   "execution_count": 2,
   "metadata": {},
   "outputs": [
    {
     "name": "stdout",
     "output_type": "stream",
     "text": [
      "batch_size: 3\n",
      "sequence_size: 5\n",
      "output: torch.Size([5, 3, 40])\n",
      "hn: torch.Size([4, 3, 20])\n",
      "batch_size: 5\n",
      "sequence_size: 3\n",
      "output: torch.Size([5, 3, 40])\n",
      "hn: torch.Size([4, 5, 20])\n"
     ]
    }
   ],
   "source": [
    "import torch \n",
    "from nlp.models.rnn import RNN\n",
    "\n",
    "input = torch.randn(5, 3, 10) # -> [L, N, H_in]\n",
    "\n",
    "rnn_custom = RNN(input_size=10, hidden_size=20, num_layers=2, batch_first=False, bidirectional=True)\n",
    "output, hn = rnn_custom(input)\n",
    "print(f\"output: {output.size()}\")\n",
    "print(f\"hn: {hn.size()}\")\n",
    "\n",
    "rnn_custom = RNN(input_size=10, hidden_size=20, num_layers=2, batch_first=True, bidirectional=True)\n",
    "output, hn = rnn_custom(input)\n",
    "print(f\"output: {output.size()}\")\n",
    "print(f\"hn: {hn.size()}\")\n",
    "\n",
    "\n",
    "# 차원이 바뀌는 지점에서 차원 기입\n",
    "# 1. batch_first = False, Bidirectional = True\n",
    "# 2. batch_first = True, Bidirectional = True\n",
    "\n"
   ]
  },
  {
   "cell_type": "code",
   "execution_count": 4,
   "metadata": {},
   "outputs": [
    {
     "name": "stdout",
     "output_type": "stream",
     "text": [
      "forward : 1\n",
      "backward : 5\n",
      "forward : 2\n",
      "backward : 4\n",
      "forward : 3\n",
      "backward : 3\n",
      "forward : 4\n",
      "backward : 2\n",
      "forward : 5\n",
      "backward : 1\n"
     ]
    }
   ],
   "source": [
    "lst = [1,2,3,4,5]\n",
    "for i in range(len(lst)):\n",
    "    print(f\"forward : {lst[i]}\")\n",
    "    print(f\"backward : {lst[-(i+1)]}\")"
   ]
  },
  {
   "cell_type": "code",
   "execution_count": 19,
   "metadata": {},
   "outputs": [
    {
     "data": {
      "text/plain": [
       "4"
      ]
     },
     "execution_count": 19,
     "metadata": {},
     "output_type": "execute_result"
    }
   ],
   "source": [
    "from collections import Counter\n",
    "\n",
    "counter = Counter([1,2,3,4,1,1,1,2,2,2,])\n",
    "counter[1]"
   ]
  },
  {
   "cell_type": "code",
   "execution_count": 1,
   "metadata": {},
   "outputs": [
    {
     "name": "stdout",
     "output_type": "stream",
     "text": [
      "batch_size: 3\n",
      "sequence_size: 5\n",
      "output: torch.Size([5, 3, 40])\n",
      "hn: torch.Size([4, 3, 20])\n"
     ]
    }
   ],
   "source": [
    "import torch \n",
    "import torch.nn as nn\n",
    "from nlp.models.rnn import RNN\n",
    "input = torch.randn(5, 3, 10)\n",
    "\n",
    "rnn_origin = nn.RNN(10, 20, 2, batch_first=False, bidirectional=True)\n",
    "output, hn = rnn_origin(input)\n",
    "\n",
    "rnn_custom = RNN(input_size=10, hidden_size=20, num_layers=2, batch_first=False, bidirectional=True)\n",
    "output, hn = rnn_custom(input)\n",
    "print(f\"output: {output.size()}\")\n",
    "print(f\"hn: {hn.size()}\")"
   ]
  },
  {
   "cell_type": "code",
   "execution_count": 7,
   "metadata": {},
   "outputs": [
    {
     "name": "stdout",
     "output_type": "stream",
     "text": [
      "ih.weight -> size: torch.Size([20, 10])\n",
      "ih.bias -> size: torch.Size([20])\n",
      "hh.weight -> size: torch.Size([20, 20])\n",
      "hh.bias -> size: torch.Size([20])\n"
     ]
    }
   ],
   "source": [
    "from nlp.models.rnn import RNNCell\n",
    "rnn_cell = RNNCell(10, 20)\n",
    "\n",
    "for name, state in rnn_cell.state_dict().items():\n",
    "    print(f\"{name} -> size: {state.shape}\")"
   ]
  },
  {
   "cell_type": "code",
   "execution_count": 18,
   "metadata": {},
   "outputs": [
    {
     "name": "stdout",
     "output_type": "stream",
     "text": [
      "torch.Size([5, 3, 40])\n",
      "torch.Size([4, 5, 20])\n",
      "torch.Size([4, 5, 20])\n"
     ]
    }
   ],
   "source": [
    "import torch \n",
    "import torch.nn as nn\n",
    "\n",
    "input = torch.randn(5, 3, 10)\n",
    "lstm_origin = nn.LSTM(10, 20, 2, batch_first=False, bidirectional=True)\n",
    "output, hn = lstm_origin(input)\n",
    "print(output.size()) # [batch_size, seq_length, h_out]\n",
    "print(hn[0].size())   # [num_layers, batch_size, h_out]\n",
    "print(hn[1].size())   # [num_layers, batch_size, h_out]\n"
   ]
  },
  {
   "cell_type": "code",
   "execution_count": 20,
   "metadata": {},
   "outputs": [
    {
     "name": "stdout",
     "output_type": "stream",
     "text": [
      "torch.Size([5, 3, 40])\n",
      "torch.Size([4, 3, 20])\n",
      "torch.Size([4, 3, 20])\n"
     ]
    }
   ],
   "source": [
    "import torch\n",
    "from nlp.models.lstm import LSTM\n",
    "input = torch.randn(5, 3, 10)\n",
    "lstm_custom = LSTM(10, 20, 2, batch_first=False, bidirectional=True)\n",
    "output, hn = lstm_custom(input)\n",
    "print(output.size()) # [batch_size, seq_length, h_out]\n",
    "print(hn[0].size())   # [num_layers, batch_size, h_out]\n",
    "print(hn[1].size())   # [num_layers, batch_size, h_out]"
   ]
  },
  {
   "cell_type": "code",
   "execution_count": 4,
   "metadata": {},
   "outputs": [
    {
     "name": "stdout",
     "output_type": "stream",
     "text": [
      "torch.Size([2, 7])\n",
      "tensor([[[False,  True,  True,  True,  True,  True,  True],\n",
      "         [False, False,  True,  True,  True,  True,  True],\n",
      "         [False, False, False,  True,  True,  True,  True],\n",
      "         [False, False, False, False,  True,  True,  True],\n",
      "         [False, False, False, False, False,  True,  True],\n",
      "         [False, False, False, False, False, False,  True],\n",
      "         [False, False, False, False, False, False, False]],\n",
      "\n",
      "        [[False,  True,  True,  True,  True,  True,  True],\n",
      "         [False, False,  True,  True,  True,  True,  True],\n",
      "         [False, False, False,  True,  True,  True,  True],\n",
      "         [False, False, False, False,  True,  True,  True],\n",
      "         [False, False, False, False, False,  True,  True],\n",
      "         [False, False, False, False, False, False,  True],\n",
      "         [False, False, False, False, False, False, False]]])\n",
      "torch.Size([2, 7, 7])\n"
     ]
    }
   ],
   "source": [
    "import torch\n",
    "from torch import Tensor\n",
    "\n",
    "def get_look_ahead_mask(dec_input: Tensor) -> Tensor:\n",
    "    \"\"\"look ahead mask 생성 함수\n",
    "\n",
    "    자기 자신보다 미래에 있는 단어들을 참고할 수 없도록 마스킹하는 함수\n",
    "\n",
    "    Args:\n",
    "        dec_input (Tensor): 입력문장, [batch_size, seq_len] \n",
    "\n",
    "    Returns:\n",
    "        Tensor: _description_\n",
    "    \"\"\"\n",
    "    look_ahead_mask = (\n",
    "        torch.ones_like(dec_input) # [bs, seq_len]\n",
    "        .unsqueeze(-1) # [bs, seq_len, 1]\n",
    "        .expand(dec_input.size(0), dec_input.size(1), dec_input.size(1))\n",
    "    )  # => [batch_size, seq_len, seq_len]\n",
    "    look_ahead_mask = look_ahead_mask.triu(\n",
    "        diagonal=1\n",
    "    )  # upper triangular part of a matrix(2-D) => [batch_size, seq_len, seq_len]\n",
    "    return look_ahead_mask.eq(1)\n",
    "\n",
    "\n",
    "tensor = torch.tensor([\n",
    "    [1, 2, 4, 5, 3, 3, 3],\n",
    "    [34, 21, 23, 2, 4, 3, 3]\n",
    "    ]) # => [2, 7]\n",
    "# idx 3 : padding id \n",
    "\n",
    "print(tensor.size())\n",
    "output = get_look_ahead_mask(tensor)\n",
    "print(output)\n",
    "print(output.size())"
   ]
  },
  {
   "cell_type": "code",
   "execution_count": 5,
   "metadata": {},
   "outputs": [
    {
     "name": "stdout",
     "output_type": "stream",
     "text": [
      "torch.Size([2, 7])\n",
      "tensor([[[False, False, False, False,  True,  True,  True],\n",
      "         [False, False, False, False,  True,  True,  True],\n",
      "         [False, False, False, False,  True,  True,  True],\n",
      "         [False, False, False, False,  True,  True,  True],\n",
      "         [False, False, False, False,  True,  True,  True],\n",
      "         [False, False, False, False,  True,  True,  True],\n",
      "         [False, False, False, False,  True,  True,  True]],\n",
      "\n",
      "        [[False, False, False, False, False,  True,  True],\n",
      "         [False, False, False, False, False,  True,  True],\n",
      "         [False, False, False, False, False,  True,  True],\n",
      "         [False, False, False, False, False,  True,  True],\n",
      "         [False, False, False, False, False,  True,  True],\n",
      "         [False, False, False, False, False,  True,  True],\n",
      "         [False, False, False, False, False,  True,  True]]])\n",
      "torch.Size([2, 7, 7])\n"
     ]
    }
   ],
   "source": [
    "def get_padding_mask(inputs: Tensor, padding_id: int) -> Tensor:\n",
    "    \"\"\"padding token에 mask를 씌우는 함수 \n",
    "\n",
    "    Args:\n",
    "        input_tensor (Tensor): 입력문장, [batch_size, seq_len] \n",
    "        padding_id (int): padding id \n",
    "\n",
    "    Returns:\n",
    "        Tensor: 입력문장 padding 포함여부 [batch_size, seq_len, seq_len]\n",
    "    \"\"\"\n",
    "    pad_attn_mask = inputs.data.eq(padding_id).unsqueeze(1)  # => [batch_size, 1, len_k]  True / False\n",
    "    return pad_attn_mask.expand(\n",
    "        inputs.size(0), inputs.size(1), inputs.size(1)\n",
    "    ).contiguous()\n",
    "\n",
    "\n",
    "tensor = torch.tensor([\n",
    "    [1, 2, 4, 5, 3, 3, 3],\n",
    "    [34, 21, 23, 2, 4, 3, 3]\n",
    "    ])\n",
    "print(tensor.size())\n",
    "output = get_padding_mask(tensor, 3)\n",
    "print(output)\n",
    "print(output.size())"
   ]
  },
  {
   "cell_type": "code",
   "execution_count": 13,
   "metadata": {},
   "outputs": [
    {
     "name": "stdout",
     "output_type": "stream",
     "text": [
      "torch.Size([2, 7])\n",
      "tensor([[0, 1, 2, 3, 4, 5, 6],\n",
      "        [0, 1, 2, 3, 4, 5, 6]])\n",
      "torch.Size([2, 7])\n"
     ]
    }
   ],
   "source": [
    "def get_position(inputs: Tensor) -> Tensor:\n",
    "    position = (\n",
    "        torch.arange(\n",
    "            inputs.size(1), device=inputs.device, dtype=inputs.dtype\n",
    "        )\n",
    "        .expand(inputs.size(0), inputs.size(1))\n",
    "        .contiguous()\n",
    "    )  # -> [bs, max_seq_size]\n",
    "    return position\n",
    "\n",
    "tensor = torch.tensor([\n",
    "    [1, 2, 4, 5, 3, 3, 3],\n",
    "    [34, 21, 23, 2, 4, 3, 3]\n",
    "    ])\n",
    "print(tensor.size())\n",
    "output = get_position(tensor)\n",
    "print(output)\n",
    "print(output.size())"
   ]
  },
  {
   "cell_type": "code",
   "execution_count": null,
   "metadata": {},
   "outputs": [],
   "source": []
  }
 ],
 "metadata": {
  "kernelspec": {
   "display_name": "Python 3.8.15 ('study')",
   "language": "python",
   "name": "python3"
  },
  "language_info": {
   "codemirror_mode": {
    "name": "ipython",
    "version": 3
   },
   "file_extension": ".py",
   "mimetype": "text/x-python",
   "name": "python",
   "nbconvert_exporter": "python",
   "pygments_lexer": "ipython3",
   "version": "3.8.15"
  },
  "orig_nbformat": 4,
  "vscode": {
   "interpreter": {
    "hash": "5505d05ceda49dc504182582297c3c948daaaa09c5b6c6e672bebc3df7629cc5"
   }
  }
 },
 "nbformat": 4,
 "nbformat_minor": 2
}
